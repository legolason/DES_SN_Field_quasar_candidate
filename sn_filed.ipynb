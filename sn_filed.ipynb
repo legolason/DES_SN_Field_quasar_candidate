{
 "cells": [
  {
   "cell_type": "markdown",
   "metadata": {},
   "source": [
    "## QSO & QSO candidates catalog in ten DES SN fields\n",
    "\n",
    "### All the QSO and QSO candidates come from three catalogs:\n",
    "\n",
    "__1.Million quasar catalog:__\n",
    "\n",
    "include 577,146 QSO and 1297,111 quasar candidates with 80% posibility to be QSO\n",
    "see their web [here](https://heasarc.gsfc.nasa.gov/W3Browse/all/milliquas.html)\n",
    "\n",
    "__2.DiPompeo'quasar Probabilities catalog:__\n",
    "\n",
    "include 5,537,436 Pqso > 0.2, here we selected 2,797,507 Pqso > 0.8 quasar candidates\n",
    "see their [paper](http://adsabs.harvard.edu/abs/2017AJ....153..107T)\n",
    "\n",
    "__3.Tie's ozDES quasar catalog:__\n",
    "\n",
    "include 1263 spectroscopically confirmed quasars \n",
    "see their [paper](http://adsabs.harvard.edu/abs/2017AJ....153..107T)\n",
    "\n",
    "\n",
    "### Y3A1 SN Field Variability Catalog\n",
    "\n",
    "The DES-SN field point sources (RA, DEC) are selected from Eric Morganson's Y3A1 SN Field Variability Catalog.\n",
    "A sample of 885,181 variable point sources are garthered.\n",
    "See selection details (internal web) [here](https://opensource.ncsa.illinois.edu/confluence/pages/viewpage.action?spaceKey=DESDM&title=Y3A1+SN+Field+Variability+Catalog)\n",
    "\n",
    "\n",
    "After crossing match with them with 3 arcsec, we get 2174 QSO and candidates in our final catalog. Note that most Xmatch processes are finished in [TOPCAT](http://www.star.bris.ac.uk/~mbt/topcat/). \n"
   ]
  },
  {
   "cell_type": "code",
   "execution_count": null,
   "metadata": {},
   "outputs": [],
   "source": [
    "#make a lite version of million quasar catalog since it is too large, we only need RA and DEC \n",
    "import numpy as np\n",
    "data=np.genfromtxt('/Users/legolason/study/otherwork/tony/mill.txt',dtype='|S32')\n",
    "for i in range(len(data)):\n",
    "    data[i,2]=str(data[i,2])[0]\n",
    "\n",
    "ind =np.where((data[:,2] == 'q') | (data[:,2] == 'Q'))\n",
    "\n",
    "import pandas as pd\n",
    "#print data[ind,0:2].reshape(-1,2)\n",
    "df=pd.DataFrame(data[ind,0:2].reshape(-1,2))\n",
    "df.to_csv('/Users/legolason/study/otherwork/tony/mill_QSO.txt',index=False,sep=' ',float_format='%12.8f')"
   ]
  },
  {
   "cell_type": "code",
   "execution_count": 172,
   "metadata": {},
   "outputs": [
    {
     "name": "stdout",
     "output_type": "stream",
     "text": [
      "2797507\n"
     ]
    }
   ],
   "source": [
    "#combine million quasar catalog and dip's catalog to a big catalog including 2797509 qso and cnadidates except ozDES\n",
    "import numpy as np\n",
    "from astropy.io import fits\n",
    "import glob, os\n",
    "import pandas as pd\n",
    "\n",
    "dip=fits.open('/Users/legolason/study/otherwork/tony/dip_QSO_catalog.fits')\n",
    "#dip.info()\n",
    "dd=dip[1].data\n",
    "ind=np.where(dd['pqso'] > 0.8,True,False )\n",
    "print np.sum(ind)\n",
    "ra_dip=dd['ra'][ind]\n",
    "dec_dip=dd['dec'][ind]\n",
    "\n",
    "mill=np.genfromtxt('/Users/legolason/study/otherwork/tony/mill_QSO.txt')\n",
    "ra_mill=mill[0]\n",
    "dec_mill=mill[1]\n",
    "\n",
    "ra=np.append(ra_mill,ra_dip)\n",
    "dec=np.append(dec_mill,dec_dip)\n",
    "\n",
    "c1 = fits.Column(name='RA',array=ra,format='E')\n",
    "c2 = fits.Column(name='DEC',array=dec,format='E')\n",
    "h=fits.BinTableHDU.from_columns([c1, c2])\n",
    "h.writeto('/Users/legolason/study/otherwork/tony/All_QSO&candicate_ra_dec.fits')"
   ]
  },
  {
   "cell_type": "code",
   "execution_count": null,
   "metadata": {},
   "outputs": [],
   "source": [
    "#produce the SN_Field_variability source ra dec catalog to match with QSO candidates catalog\n",
    "import numpy as np\n",
    "from astropy.io import fits\n",
    "import glob, os\n",
    "import pandas as pd\n",
    "\n",
    "path='/Users/legolason/study/otherwork/tony/SN_varibility/'\n",
    "os.chdir(path)\n",
    "\n",
    "ra=np.array([])\n",
    "dec=np.array([])\n",
    "for file in zip(glob.glob(\"*.fits\"),range(len(glob.glob(\"*.fits\")))):\n",
    "    data=fits.open(file[0])[1].data\n",
    "    #print data['RA'][0:10],data['DEC'][0:10]\n",
    "    #print len(data)\n",
    "    ra=np.append(ra,data['ra'])\n",
    "    dec=np.append(dec,data['dec'])\n",
    "    \n",
    "#save data to fits\n",
    "c1 = fits.Column(name='RA',array=ra,format='E')\n",
    "c2 = fits.Column(name='DEC',array=dec,format='E')\n",
    "h=fits.BinTableHDU.from_columns([c1, c2])\n",
    "h.writeto('/Users/legolason/study/otherwork/tony/SN_field_variability_ra_dec.fits')"
   ]
  },
  {
   "cell_type": "code",
   "execution_count": 200,
   "metadata": {
    "scrolled": false
   },
   "outputs": [],
   "source": [
    "#combine SN_field_variability&ALL_QSO_candidates  and ozDES \n",
    "\n",
    "data1=fits.open('/Users/legolason/study/otherwork/tony/inozdes_not_in_five.fits')\n",
    "a=data1[1].data\n",
    "ra_a=a['col3']\n",
    "dec_a=a['col4']\n",
    "\n",
    "data2=fits.open('/Users/legolason/study/otherwork/tony/north_five_SN_field.fits')\n",
    "b=data2[1].data\n",
    "ra_b=b['ra_1']\n",
    "dec_b=b['dec_1']\n",
    "\n",
    "\n",
    "ra_qso=np.append(ra_a,ra_b)\n",
    "dec_qso=np.append(dec_a,dec_b)\n",
    "\n",
    "df=pd.DataFrame({'1RA':ra_qso,\n",
    "                 '2DEC':dec_qso})\n",
    "df1=df.sort_values(by='1RA')\n",
    "#print df1.iloc[:,0]\n",
    "c1 = fits.Column(name='RA',array=df1.iloc[:,0],format='E')\n",
    "c2 = fits.Column(name='DEC',array=df1.iloc[:,1],format='E')\n",
    "h=fits.BinTableHDU.from_columns([c1, c2])\n",
    "h.writeto('/Users/legolason/study/otherwork/tony/final_SN_field_qso&candidate.fits')"
   ]
  }
 ],
 "metadata": {
  "kernelspec": {
   "display_name": "Python 2",
   "language": "python",
   "name": "python2"
  },
  "language_info": {
   "codemirror_mode": {
    "name": "ipython",
    "version": 2
   },
   "file_extension": ".py",
   "mimetype": "text/x-python",
   "name": "python",
   "nbconvert_exporter": "python",
   "pygments_lexer": "ipython2",
   "version": "2.7.14"
  }
 },
 "nbformat": 4,
 "nbformat_minor": 2
}
